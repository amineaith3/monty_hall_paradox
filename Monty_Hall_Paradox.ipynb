{
  "nbformat": 4,
  "nbformat_minor": 0,
  "metadata": {
    "colab": {
      "provenance": []
    },
    "kernelspec": {
      "name": "python3",
      "display_name": "Python 3"
    },
    "language_info": {
      "name": "python"
    }
  },
  "cells": [
    {
      "cell_type": "markdown",
      "source": [
        "# Introduction :"
      ],
      "metadata": {
        "id": "fgf_9njV7cqO"
      }
    },
    {
      "cell_type": "markdown",
      "source": [
        "Today, we will have the **Monty Hall Paradox** a subject to study."
      ],
      "metadata": {
        "id": "dW0mpw-M4lDA"
      }
    },
    {
      "cell_type": "markdown",
      "source": [
        "The Monty Hall Paradox is a famous probability puzzle named after Monty Hall, the host of the American television game show \"Let's Make a Deal.\" The paradox can be explained as follows:\n"
      ],
      "metadata": {
        "id": "WrHbPGRS4qA8"
      }
    },
    {
      "cell_type": "markdown",
      "source": [
        "# Scenario :"
      ],
      "metadata": {
        "id": "-cBYXYE97gM7"
      }
    },
    {
      "cell_type": "markdown",
      "source": [
        "You are a contestant on a game show.\n",
        "\n",
        "There are three closed doors in front of you, and behind one of these doors is a valuable prize , while the other two doors conceal less desirable prizes.\n",
        "\n",
        "You are asked to choose one of the three doors, hoping to select the one with the valuable prize behind it.\n",
        "\n",
        "\n",
        "**Initial Choice:**\n",
        "\n",
        "You make your initial choice and select one of the doors, say Door #1.\n",
        "\n",
        "\n",
        "**Host's Action:**\n",
        "\n",
        "Now, here's where the paradox comes into play.\n",
        "\n",
        "After you've made your initial choice, the game show host, who knows what is behind each door, opens one of the other two doors that you didn't choose, revealing one of the two less valuable prizes.\n",
        "\n",
        "**Decision Point:**\n",
        "\n",
        "\n",
        "At this point, you are presented with a decision: Do you stick with your initial choice (Door #1), or do you switch to the remaining unopened door (the one you didn't pick and wasn't opened by the host)?\n"
      ],
      "metadata": {
        "id": "pAviTHid46v8"
      }
    },
    {
      "cell_type": "markdown",
      "source": [
        "# The Paradox:\n",
        "\n",
        "The paradox lies in the counterintuitive fact that your chances of winning the valuable prize are actually higher if you switch doors rather than sticking with your initial choice."
      ],
      "metadata": {
        "id": "a_b_HCAD8PVT"
      }
    },
    {
      "cell_type": "markdown",
      "source": [
        "# The maths behind the paradox :\n"
      ],
      "metadata": {
        "id": "EThPWNwU7U6F"
      }
    },
    {
      "cell_type": "markdown",
      "source": [
        "To understand why this is the case, consider the probabilities involved:\n",
        "\n",
        "\n",
        "*   \n",
        "When you initially choose a door, there's a 1/3 chance that you picked the door with the valuable prize behind it (1/3 chance of success) and a 2/3 chance that you picked a door with a goat (2/3 chance of failure).\n",
        "*   \n",
        "When the host opens one of the other two doors to reveal a goat, the probability that your initial choice was correct doesn't change. It remains at 1/3. However, the combined probability that one of the other two doors has the prize becomes 2/3 because the host's action provides information about the unchosen doors.\n",
        "*\n",
        "When you switch doors, you are essentially betting that your initial choice was wrong (2/3 chance) and that the unopened door (the one you didn't choose) is more likely to contain the prize (2/3 chance). So, switching doors gives you a 2/3 chance of winning, while sticking with your initial choice only has a 1/3 chance of winning."
      ],
      "metadata": {
        "id": "rzr0lVzK7aQF"
      }
    },
    {
      "cell_type": "markdown",
      "source": [
        "# The programming side of the paradox :\n"
      ],
      "metadata": {
        "id": "cfS8jHfu8t1l"
      }
    },
    {
      "cell_type": "markdown",
      "source": [
        "First we import the needed library"
      ],
      "metadata": {
        "id": "Nck7BFeo9a4f"
      }
    },
    {
      "cell_type": "code",
      "execution_count": 18,
      "metadata": {
        "id": "xvfzNCSr4aC0"
      },
      "outputs": [],
      "source": [
        "import random\n",
        "import numpy as np\n",
        "import pandas as pd\n",
        "import matplotlib.pyplot as plt\n",
        "from google.colab import files"
      ]
    },
    {
      "cell_type": "markdown",
      "source": [
        "Then, we create our function to initialize the doors :"
      ],
      "metadata": {
        "id": "0IqPou689pGp"
      }
    },
    {
      "cell_type": "code",
      "source": [
        "def initialize_doors():\n",
        "    # Randomly place the car behind one of the three doors\n",
        "    doors = np.zeros(3, dtype=int)  # 0 represents a 2nd rate prize\n",
        "    prize_position = random.randint(0, 2)\n",
        "    doors[prize_position] = 1  # 1 represents the 1st rate prize\n",
        "    return doors, prize_position"
      ],
      "metadata": {
        "id": "LSQcmATN9wIj"
      },
      "execution_count": 11,
      "outputs": []
    },
    {
      "cell_type": "markdown",
      "source": [
        "We add a function that simulates the contestant's choice :"
      ],
      "metadata": {
        "id": "1yqogyCDAHYA"
      }
    },
    {
      "cell_type": "code",
      "source": [
        "def contestant_choice():\n",
        "    # Contestant makes their initial choice\n",
        "    return random.randint(0, 2)"
      ],
      "metadata": {
        "id": "WwnIP2_CAK6G"
      },
      "execution_count": 12,
      "outputs": []
    },
    {
      "cell_type": "markdown",
      "source": [
        "We add a function that simulates the host opening one of the doors :"
      ],
      "metadata": {
        "id": "BWDh9utHAP2H"
      }
    },
    {
      "cell_type": "code",
      "source": [
        "def host_open_door(doors, contestant_choice):\n",
        "    # Host opens one of the other doors with a goat\n",
        "    remaining_unopened_doors = [i for i in range(3) if i != contestant_choice and doors[i] == 0]\n",
        "    opened_door = random.choice(remaining_unopened_doors)\n",
        "    return opened_door"
      ],
      "metadata": {
        "id": "BskETz1WAYBa"
      },
      "execution_count": 13,
      "outputs": []
    },
    {
      "cell_type": "markdown",
      "source": [
        "We add another function that simulates the other unopened door :"
      ],
      "metadata": {
        "id": "ER5ggXhQAbaP"
      }
    },
    {
      "cell_type": "code",
      "source": [
        "def other_unopened_door(contestant_choice, opened_door):\n",
        "    # Determine the other unopened door\n",
        "    return [i for i in range(3) if i != contestant_choice and i != opened_door][0]"
      ],
      "metadata": {
        "id": "0WuxMzQTAiwA"
      },
      "execution_count": 14,
      "outputs": []
    },
    {
      "cell_type": "markdown",
      "source": [
        "And then, we simulate the whole experiment :"
      ],
      "metadata": {
        "id": "U9UwE3maAk5r"
      }
    },
    {
      "cell_type": "code",
      "source": [
        "# Number of trials for the simulation\n",
        "num_trials = 100000\n",
        "\n",
        "# Initialize arrays to store probabilities\n",
        "stay_probabilities = np.zeros(num_trials)\n",
        "switch_probabilities = np.zeros(num_trials)\n",
        "\n",
        "stay_wins = 0\n",
        "switch_wins = 0\n",
        "\n",
        "for i in range(num_trials):\n",
        "    doors, prize_position = initialize_doors()\n",
        "    initial_choice = contestant_choice()\n",
        "    opened_door = host_open_door(doors, initial_choice)\n",
        "    unopened_door = other_unopened_door(initial_choice, opened_door)\n",
        "\n",
        "    # Check if the contestant wins by staying or switching\n",
        "    stay_wins += doors[initial_choice]\n",
        "    switch_wins += doors[unopened_door]\n",
        "\n",
        "    # Calculate probabilities up to the current trial\n",
        "    stay_probabilities[i] = stay_wins / (i + 1)\n",
        "    switch_probabilities[i] = switch_wins / (i + 1)"
      ],
      "metadata": {
        "id": "2OhlG_L6AsWy"
      },
      "execution_count": 15,
      "outputs": []
    },
    {
      "cell_type": "markdown",
      "source": [
        "We save our data in a DataFrame (optional) :"
      ],
      "metadata": {
        "id": "mW3RGsrvC1eq"
      }
    },
    {
      "cell_type": "code",
      "source": [
        "# Create a Pandas DataFrame to store the results\n",
        "data = {\n",
        "    \"Trial\": np.arange(1, num_trials + 1),\n",
        "    \"Stay Probability\": stay_probabilities,\n",
        "    \"Switch Probability\": switch_probabilities\n",
        "}\n",
        "df = pd.DataFrame(data)"
      ],
      "metadata": {
        "id": "BjsoO29WC4Yw"
      },
      "execution_count": 16,
      "outputs": []
    },
    {
      "cell_type": "markdown",
      "source": [
        "And finally we plot out results :"
      ],
      "metadata": {
        "id": "pPSqOEMTC_SY"
      }
    },
    {
      "cell_type": "code",
      "source": [
        "# Plot the results\n",
        "plt.figure(figsize=(10, 6))\n",
        "plt.plot(df[\"Trial\"], df[\"Stay Probability\"], label=\"Stay Probability\")\n",
        "plt.plot(df[\"Trial\"], df[\"Switch Probability\"], label=\"Switch Probability\")\n",
        "plt.xlabel(\"Number of Trials\")\n",
        "plt.ylabel(\"Probability of Winning\")\n",
        "plt.legend()\n",
        "plt.title(\"Monty Hall Simulation Results\")\n",
        "\n",
        "# Save the plot as a .png file in Google Colab's local storage\n",
        "plt.savefig(\"monty_hall_simulation.png\")\n",
        "\n",
        "# Display the plot\n",
        "plt.show()"
      ],
      "metadata": {
        "colab": {
          "base_uri": "https://localhost:8080/",
          "height": 564
        },
        "id": "CjFsdsGyDBk_",
        "outputId": "ff17d58a-bc4d-42d3-ff34-a0da3a05c1b4"
      },
      "execution_count": 17,
      "outputs": [
        {
          "output_type": "display_data",
          "data": {
            "text/plain": [
              "<Figure size 1000x600 with 1 Axes>"
            ],
            "image/png": "[encoded data removed]"
          },
          "metadata": {}
        }
      ]
    },
    {
      "cell_type": "markdown",
      "source": [
        "And in case you want to download your png image :"
      ],
      "metadata": {
        "id": "CE8YlN3tDcPC"
      }
    },
    {
      "cell_type": "code",
      "source": [
        "# Specify the file\n",
        "file_name = \"monty_hall_simulation.png\"\n",
        "\n",
        "# Trigger the download of the file to your local system\n",
        "files.download(file_name)"
      ],
      "metadata": {
        "colab": {
          "base_uri": "https://localhost:8080/",
          "height": 17
        },
        "id": "qjmsoEPMDg89",
        "outputId": "9754fb5e-3787-427e-b15b-5b7b52dbde17"
      },
      "execution_count": 19,
      "outputs": [
        {
          "output_type": "display_data",
          "data": {
            "text/plain": [
              "<IPython.core.display.Javascript object>"
            ],
            "application/javascript": [
              "\n",
              "    async function download(id, filename, size) {\n",
              "      if (!google.colab.kernel.accessAllowed) {\n",
              "        return;\n",
              "      }\n",
              "      const div = document.createElement('div');\n",
              "      const label = document.createElement('label');\n",
              "      label.textContent = `Downloading \"${filename}\": `;\n",
              "      div.appendChild(label);\n",
              "      const progress = document.createElement('progress');\n",
              "      progress.max = size;\n",
              "      div.appendChild(progress);\n",
              "      document.body.appendChild(div);\n",
              "\n",
              "      const buffers = [];\n",
              "      let downloaded = 0;\n",
              "\n",
              "      const channel = await google.colab.kernel.comms.open(id);\n",
              "      // Send a message to notify the kernel that we're ready.\n",
              "      channel.send({})\n",
              "\n",
              "      for await (const message of channel.messages) {\n",
              "        // Send a message to notify the kernel that we're ready.\n",
              "        channel.send({})\n",
              "        if (message.buffers) {\n",
              "          for (const buffer of message.buffers) {\n",
              "            buffers.push(buffer);\n",
              "            downloaded += buffer.byteLength;\n",
              "            progress.value = downloaded;\n",
              "          }\n",
              "        }\n",
              "      }\n",
              "      const blob = new Blob(buffers, {type: 'application/binary'});\n",
              "      const a = document.createElement('a');\n",
              "      a.href = window.URL.createObjectURL(blob);\n",
              "      a.download = filename;\n",
              "      div.appendChild(a);\n",
              "      a.click();\n",
              "      div.remove();\n",
              "    }\n",
              "  "
            ]
          },
          "metadata": {}
        },
        {
          "output_type": "display_data",
          "data": {
            "text/plain": [
              "<IPython.core.display.Javascript object>"
            ],
            "application/javascript": [
              "download(\"download_253d410a-968a-4a6b-8bea-7a81d36c714a\", \"monty_hall_simulation.png\", 32155)"
            ]
          },
          "metadata": {}
        }
      ]
    }
  ]
}